{
 "cells": [
  {
   "cell_type": "markdown",
   "metadata": {},
   "source": [
    "<h1 align=center><font size = 15>Similar district</font></h1>\n",
    "<h2 align=center><font size = 10>Coursera Capstone Project</font></h2>"
   ]
  },
  {
   "cell_type": "markdown",
   "metadata": {},
   "source": [
    "## Introduction/Business Problem\n",
    "One family with a little child decided to move to another country. They have already chosen a city, but have a lot of doubts about neighbourhoods. They want to low an impact of the relocation on their life, as well as work. That's why they asked me to compare their previous home city with a new one and indicate similar neighbourhoods.\n",
    "\n",
    "We discussed and created a criteria's list to consider during research with presence and distance to/from:\n",
    "- schools/kindergartens;\n",
    "- parks/playground for children;\n",
    "- gyms/swimming pools;\n",
    "- supermarkets/grocery shops;\n",
    "- train and bus stations;\n",
    "- airport;\n",
    "- restaurants;\n",
    "- landmarks\n",
    "\n",
    "In the future, we can use this model to find a similar districts in another city or country to suggest\n",
    "- relocation options;\n",
    "- investment solutions;\n",
    "- solve urban problems;"
   ]
  },
  {
   "cell_type": "markdown",
   "metadata": {},
   "source": [
    "## Data type and sources\n",
    "I will use data from Foursquare to qualify and cluster neighbourhoods:\n",
    "- revues based on type\n",
    "- distance from center of the neighborhood\n",
    "\n",
    "I will check other sources for crime and unemployment rates: <br>\n",
    "Here is some examples <br>\n",
    "Chicago crime https://data.world/publicsafety/chicago-crime/file/chicago_crime_2014.csv or https://home.chicagopolice.org/statistics-data/public-arrest-data/ <br>\n",
    "European unemployment https://ec.europa.eu/eurostat/statistics-explained/images/b/b4/Unemployment_in_the_regions_of_the_EU_UK_EFTA_and_CC_2019_-_updated.xlsx"
   ]
  },
  {
   "cell_type": "markdown",
   "metadata": {},
   "source": [
    "This notebook is part of a course on **Coursera** called *Applied Data Science Capstone*"
   ]
  }
 ],
 "metadata": {
  "kernelspec": {
   "display_name": "Python",
   "language": "python",
   "name": "conda-env-python-py"
  },
  "language_info": {
   "codemirror_mode": {
    "name": "ipython",
    "version": 3
   },
   "file_extension": ".py",
   "mimetype": "text/x-python",
   "name": "python",
   "nbconvert_exporter": "python",
   "pygments_lexer": "ipython3",
   "version": "3.6.10"
  },
  "widgets": {
   "state": {},
   "version": "1.1.2"
  }
 },
 "nbformat": 4,
 "nbformat_minor": 4
}
