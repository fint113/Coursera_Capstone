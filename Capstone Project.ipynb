<h1>Capstone Project</h1>
<h2>this notebook will be mainly used for the coursera capstone project</h2>
import pandas as pd
import numpy as np
print ("Hello Capstone Project Course!")
